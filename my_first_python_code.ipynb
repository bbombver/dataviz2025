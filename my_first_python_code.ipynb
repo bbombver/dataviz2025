{
  "nbformat": 4,
  "nbformat_minor": 0,
  "metadata": {
    "colab": {
      "provenance": [],
      "toc_visible": true,
      "authorship_tag": "ABX9TyPUP32HFKl5+nLgTr1GAZRv",
      "include_colab_link": true
    },
    "kernelspec": {
      "name": "python3",
      "display_name": "Python 3"
    },
    "language_info": {
      "name": "python"
    }
  },
  "cells": [
    {
      "cell_type": "markdown",
      "metadata": {
        "id": "view-in-github",
        "colab_type": "text"
      },
      "source": [
        "<a href=\"https://colab.research.google.com/github/bbombver/dataviz2025/blob/main/my_first_python_code.ipynb\" target=\"_parent\"><img src=\"https://colab.research.google.com/assets/colab-badge.svg\" alt=\"Open In Colab\"/></a>"
      ]
    },
    {
      "cell_type": "markdown",
      "source": [
        "Here we can write using **Markdown**\n",
        "# intro"
      ],
      "metadata": {
        "id": "0X57niuhH7td"
      }
    },
    {
      "cell_type": "markdown",
      "source": [
        "# name"
      ],
      "metadata": {
        "id": "tkQSd9WbIViU"
      }
    },
    {
      "cell_type": "code",
      "source": [
        "print(\"Wachirawit\")"
      ],
      "metadata": {
        "colab": {
          "base_uri": "https://localhost:8080/"
        },
        "id": "Tf1y288BIKyF",
        "outputId": "82c05a94-df8f-4782-a3e3-e79780cc499a"
      },
      "execution_count": 3,
      "outputs": [
        {
          "output_type": "stream",
          "name": "stdout",
          "text": [
            "Wachirawit\n"
          ]
        }
      ]
    },
    {
      "cell_type": "markdown",
      "source": [
        "# surname"
      ],
      "metadata": {
        "id": "Cr8G0SgpIL9_"
      }
    },
    {
      "cell_type": "code",
      "source": [
        "print('Moonla-ong')"
      ],
      "metadata": {
        "colab": {
          "base_uri": "https://localhost:8080/"
        },
        "id": "2U8tXaOQIcne",
        "outputId": "e01afe75-8980-4f5b-e102-d02efc52ecde"
      },
      "execution_count": 5,
      "outputs": [
        {
          "output_type": "stream",
          "name": "stdout",
          "text": [
            "Moonla-ong\n"
          ]
        }
      ]
    }
  ]
}