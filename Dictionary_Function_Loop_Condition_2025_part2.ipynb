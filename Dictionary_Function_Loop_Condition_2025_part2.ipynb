{
  "nbformat": 4,
  "nbformat_minor": 0,
  "metadata": {
    "kernelspec": {
      "display_name": "Python 3",
      "language": "python",
      "name": "python3"
    },
    "language_info": {
      "codemirror_mode": {
        "name": "ipython",
        "version": 3
      },
      "file_extension": ".py",
      "mimetype": "text/x-python",
      "name": "python",
      "nbconvert_exporter": "python",
      "pygments_lexer": "ipython3",
      "version": "3.7.4"
    },
    "colab": {
      "provenance": [],
      "toc_visible": true,
      "include_colab_link": true
    }
  },
  "cells": [
    {
      "cell_type": "markdown",
      "metadata": {
        "id": "view-in-github",
        "colab_type": "text"
      },
      "source": [
        "<a href=\"https://colab.research.google.com/github/bbombver/dataviz2025/blob/main/Dictionary_Function_Loop_Condition_2025_part2.ipynb\" target=\"_parent\"><img src=\"https://colab.research.google.com/assets/colab-badge.svg\" alt=\"Open In Colab\"/></a>"
      ]
    },
    {
      "cell_type": "markdown",
      "source": [
        "# Dictionary"
      ],
      "metadata": {
        "id": "BMTqkV73RT0b"
      }
    },
    {
      "cell_type": "code",
      "source": [
        "dict_a = {'abc':123,'def':456,'ghi':789}"
      ],
      "metadata": {
        "id": "MaGNbhVQRRSL"
      },
      "execution_count": null,
      "outputs": []
    },
    {
      "cell_type": "code",
      "source": [
        "dict_a"
      ],
      "metadata": {
        "colab": {
          "base_uri": "https://localhost:8080/"
        },
        "id": "lkegMadtSq-D",
        "outputId": "8baa931c-77e8-4e33-a91a-b4249e06b79e"
      },
      "execution_count": null,
      "outputs": [
        {
          "output_type": "execute_result",
          "data": {
            "text/plain": [
              "{'abc': 123, 'def': 456, 'ghi': 789}"
            ]
          },
          "metadata": {},
          "execution_count": 2
        }
      ]
    },
    {
      "cell_type": "code",
      "source": [
        "dict_a['def']"
      ],
      "metadata": {
        "colab": {
          "base_uri": "https://localhost:8080/"
        },
        "id": "NqWcfzuoS2bG",
        "outputId": "0ee4f464-8ac4-48e6-e3e1-0d7be75e10f3"
      },
      "execution_count": null,
      "outputs": [
        {
          "output_type": "execute_result",
          "data": {
            "text/plain": [
              "456"
            ]
          },
          "metadata": {},
          "execution_count": 3
        }
      ]
    },
    {
      "cell_type": "code",
      "source": [
        "dict_b = {}"
      ],
      "metadata": {
        "id": "jxL0_5UbTQfE"
      },
      "execution_count": null,
      "outputs": []
    },
    {
      "cell_type": "code",
      "source": [
        "dict_b['a'] = 123"
      ],
      "metadata": {
        "id": "88tPFRsaTZ8F"
      },
      "execution_count": null,
      "outputs": []
    },
    {
      "cell_type": "code",
      "source": [
        "dict_b"
      ],
      "metadata": {
        "colab": {
          "base_uri": "https://localhost:8080/"
        },
        "id": "orGsq1LvTi5O",
        "outputId": "0afde9ca-28b8-4096-be93-9b2b10542170"
      },
      "execution_count": null,
      "outputs": [
        {
          "output_type": "execute_result",
          "data": {
            "text/plain": [
              "{'a': 123}"
            ]
          },
          "metadata": {},
          "execution_count": 6
        }
      ]
    },
    {
      "cell_type": "code",
      "source": [
        "dict_b['a'] = 567"
      ],
      "metadata": {
        "id": "HIRMmGKJTstN"
      },
      "execution_count": null,
      "outputs": []
    },
    {
      "cell_type": "code",
      "source": [
        "dict_b"
      ],
      "metadata": {
        "colab": {
          "base_uri": "https://localhost:8080/"
        },
        "id": "HDdIL8L_T4EE",
        "outputId": "0459a55b-5a4b-4826-b085-c7905e1dd6a6"
      },
      "execution_count": null,
      "outputs": [
        {
          "output_type": "execute_result",
          "data": {
            "text/plain": [
              "{'a': 567}"
            ]
          },
          "metadata": {},
          "execution_count": 9
        }
      ]
    },
    {
      "cell_type": "markdown",
      "source": [
        "## การ add สมาชิกเข้าไปใน dict"
      ],
      "metadata": {
        "id": "ao_VyxIqUCXv"
      }
    },
    {
      "cell_type": "code",
      "source": [
        "if 'b' not in dict_b:\n",
        "    dict_b['b'] = 123"
      ],
      "metadata": {
        "id": "SkHgyzbPT_qi"
      },
      "execution_count": null,
      "outputs": []
    },
    {
      "cell_type": "code",
      "source": [
        "dict_b"
      ],
      "metadata": {
        "colab": {
          "base_uri": "https://localhost:8080/"
        },
        "id": "1iT2-a2rUaCj",
        "outputId": "831b3c0f-303e-44f7-c296-eafa35f5684b"
      },
      "execution_count": null,
      "outputs": [
        {
          "output_type": "execute_result",
          "data": {
            "text/plain": [
              "{'a': 567, 'b': 123}"
            ]
          },
          "metadata": {},
          "execution_count": 12
        }
      ]
    },
    {
      "cell_type": "markdown",
      "metadata": {
        "id": "-57L9aVubPqU"
      },
      "source": [
        "# Function"
      ]
    },
    {
      "cell_type": "markdown",
      "metadata": {
        "id": "1DNzYhO4bPqb"
      },
      "source": [
        "## Function template\n",
        "#### ทำหน้าที่รับ input มาประมวณผลออกมาเป็น output\n",
        "#### f(x) = y"
      ]
    },
    {
      "cell_type": "markdown",
      "metadata": {
        "id": "3Nv1ZDEKbPqc"
      },
      "source": [
        "### def คือการกำหนดฟังก์ชัน"
      ]
    },
    {
      "cell_type": "markdown",
      "metadata": {
        "id": "DbHDoWEabPqc"
      },
      "source": [
        "```python\n",
        "    def function_name(_Input_) :\n",
        "        do_something with _Input_ to get _Output_\n",
        "        return _Output_\n",
        "```"
      ]
    },
    {
      "cell_type": "markdown",
      "metadata": {
        "id": "1fuimreqpVhU"
      },
      "source": [
        "เราใช้ เว้นวรรค (indent) เพื่อบอกขอบเขตของโปรแกรม"
      ]
    },
    {
      "cell_type": "markdown",
      "metadata": {
        "id": "kh2M1smCl5Iv"
      },
      "source": [
        "function มีส่วนสำคัญทั้งหมด 4 ส่วน\n",
        "\n",
        "1.   บอก python ว่าเราจะเขียนฟังก์ชั่น ชื่ออะไร  ```def function_name():``` (ขาดไม่ได้)\n",
        "2.   กำหนดตัวแปรที่จะเป็น input  ```_Input_``` (ขาดได้)\n",
        "3.   ส่วนประมวลผล ```do_something with _Input_ to get _Output_``` (ขาดไม่ได้)\n",
        "4.   ส่วน output ```return _Output_```(ขาดได้)\n",
        "\n"
      ]
    },
    {
      "cell_type": "markdown",
      "metadata": {
        "id": "lqWzVN5AbPqc"
      },
      "source": [
        "#### ตัวอย่างการเขียน normal function\n"
      ]
    },
    {
      "cell_type": "code",
      "source": [
        "def print_myname():   # ตัวอย่าง function ที่ไม่มีทั้ง input และ output\n",
        "    print('Thanapong')"
      ],
      "metadata": {
        "id": "6wzfVo_pTefO"
      },
      "execution_count": null,
      "outputs": []
    },
    {
      "cell_type": "code",
      "source": [
        "print_myname()"
      ],
      "metadata": {
        "colab": {
          "base_uri": "https://localhost:8080/"
        },
        "id": "482E9UnsUMkC",
        "outputId": "0a2f0863-3d56-4688-d7cd-c307a53df42f"
      },
      "execution_count": null,
      "outputs": [
        {
          "output_type": "stream",
          "name": "stdout",
          "text": [
            "Thanapong\n"
          ]
        }
      ]
    },
    {
      "cell_type": "code",
      "source": [
        "b = print_myname()"
      ],
      "metadata": {
        "colab": {
          "base_uri": "https://localhost:8080/"
        },
        "id": "Tvh64fNKXa4A",
        "outputId": "f4fa08b4-2b2e-40f1-bdc1-fcbfba4fe55f"
      },
      "execution_count": null,
      "outputs": [
        {
          "output_type": "stream",
          "name": "stdout",
          "text": [
            "Thanapong\n"
          ]
        }
      ]
    },
    {
      "cell_type": "code",
      "source": [
        "b"
      ],
      "metadata": {
        "id": "85GUuzgBXfbc"
      },
      "execution_count": null,
      "outputs": []
    },
    {
      "cell_type": "code",
      "source": [
        "def print_name(name):   # ตัวอย่าง function ที่ มีครบทุกส่วน\n",
        "    st = f'ชื่อ {name}'\n",
        "    return st"
      ],
      "metadata": {
        "id": "IoDxvK_LWo0E"
      },
      "execution_count": null,
      "outputs": []
    },
    {
      "cell_type": "code",
      "source": [
        "print_name('stat')"
      ],
      "metadata": {
        "colab": {
          "base_uri": "https://localhost:8080/",
          "height": 56
        },
        "id": "ZgOS8VeoW_B_",
        "outputId": "1e2e8003-823b-4a39-f4e4-2af04d3e387e"
      },
      "execution_count": null,
      "outputs": [
        {
          "output_type": "execute_result",
          "data": {
            "text/plain": [
              "'ชื่อ stat'"
            ],
            "application/vnd.google.colaboratory.intrinsic+json": {
              "type": "string"
            }
          },
          "metadata": {},
          "execution_count": 16
        }
      ]
    },
    {
      "cell_type": "code",
      "source": [
        "a = print_name('stat')"
      ],
      "metadata": {
        "id": "XizFGc4yXO4v"
      },
      "execution_count": null,
      "outputs": []
    },
    {
      "cell_type": "code",
      "source": [
        "a"
      ],
      "metadata": {
        "colab": {
          "base_uri": "https://localhost:8080/",
          "height": 56
        },
        "id": "uxY0bP_3XUza",
        "outputId": "7b36102c-466a-4d6d-f91d-bab9c98dd877"
      },
      "execution_count": null,
      "outputs": [
        {
          "output_type": "execute_result",
          "data": {
            "text/plain": [
              "'ชื่อ stat'"
            ],
            "application/vnd.google.colaboratory.intrinsic+json": {
              "type": "string"
            }
          },
          "metadata": {},
          "execution_count": 18
        }
      ]
    },
    {
      "cell_type": "code",
      "metadata": {
        "id": "n706WULobPqc"
      },
      "source": [
        "def print_fullname(surname,ID,name):        # ตัวอย่าง function ที่ มี input หลายตัว กับ output 1 ตัว\n",
        "    st = f'ชื่อ {name} นามสกุล {surname} รหัส {ID}'\n",
        "    return st"
      ],
      "execution_count": null,
      "outputs": []
    },
    {
      "cell_type": "code",
      "metadata": {
        "colab": {
          "base_uri": "https://localhost:8080/",
          "height": 56
        },
        "id": "muh0pi_Gkym8",
        "outputId": "03f7e46b-7dd9-49f7-9c37-ace9da6de53c"
      },
      "source": [
        "print_fullname('อินทระ','66xxxxxx','ธนพงศ์')"
      ],
      "execution_count": null,
      "outputs": [
        {
          "output_type": "execute_result",
          "data": {
            "text/plain": [
              "'ชื่อ ธนพงศ์ นามสกุล อินทระ รหัส 66xxxxxx'"
            ],
            "application/vnd.google.colaboratory.intrinsic+json": {
              "type": "string"
            }
          },
          "metadata": {},
          "execution_count": 23
        }
      ]
    },
    {
      "cell_type": "code",
      "source": [
        "print_name(name='กาญจนา',surname='ประสาคุณ',ID='603021855-2')"
      ],
      "metadata": {
        "colab": {
          "base_uri": "https://localhost:8080/",
          "height": 56
        },
        "id": "vxooaHuHVTDJ",
        "outputId": "25d27066-d51d-471b-f2df-e71d92bc0faf"
      },
      "execution_count": null,
      "outputs": [
        {
          "output_type": "execute_result",
          "data": {
            "text/plain": [
              "'ชื่อ กาญจนา นามสกุล ประสาคุณ รหัส 603021855-2'"
            ],
            "application/vnd.google.colaboratory.intrinsic+json": {
              "type": "string"
            }
          },
          "metadata": {},
          "execution_count": 6
        }
      ]
    },
    {
      "cell_type": "markdown",
      "metadata": {
        "id": "tSV-FUQBpx0i"
      },
      "source": [
        "ฟังก์ชั่นไม่จำเป็นต้องมี output"
      ]
    },
    {
      "cell_type": "code",
      "metadata": {
        "id": "loNAFSvLo5dC"
      },
      "source": [
        "def print_fullname2(surname,ID,name):\n",
        "    st = f'ชื่อ {name} นามสกุล {surname} รหัส {ID}'\n",
        "    print(st)"
      ],
      "execution_count": null,
      "outputs": []
    },
    {
      "cell_type": "code",
      "metadata": {
        "colab": {
          "base_uri": "https://localhost:8080/"
        },
        "id": "JE88oCj8o_j_",
        "outputId": "9ce8c58c-465c-429b-ba25-942bd8839f01"
      },
      "source": [
        "print_name2(name='กาญจนา',surname='ประสาคุณ',ID='603021855-2')"
      ],
      "execution_count": null,
      "outputs": [
        {
          "output_type": "stream",
          "name": "stdout",
          "text": [
            "ชื่อ กาญจนา นามสกุล ประสาคุณ รหัส 603021855-2\n"
          ]
        }
      ]
    },
    {
      "cell_type": "markdown",
      "source": [
        "### ข้อแตกต่างระหว่าง function ที่มีและไม่มี output"
      ],
      "metadata": {
        "id": "dW328wxLWauv"
      }
    },
    {
      "cell_type": "code",
      "source": [
        "out_printname1 = print_fullname(name='กาญจนา',surname='ประสาคุณ',ID='603021855-2') # มี output\n",
        "print(out_printname1)"
      ],
      "metadata": {
        "colab": {
          "base_uri": "https://localhost:8080/"
        },
        "id": "Ae6C6-DTWFOD",
        "outputId": "972657a9-ec3b-449e-affa-95584785a921"
      },
      "execution_count": null,
      "outputs": [
        {
          "output_type": "stream",
          "name": "stdout",
          "text": [
            "ชื่อ กาญจนา นามสกุล ประสาคุณ รหัส 603021855-2\n"
          ]
        }
      ]
    },
    {
      "cell_type": "code",
      "source": [
        "out_printname1"
      ],
      "metadata": {
        "colab": {
          "base_uri": "https://localhost:8080/",
          "height": 56
        },
        "id": "yPtH94N0WtsE",
        "outputId": "1d6db60b-609d-4b24-93da-cbab602ac4e4"
      },
      "execution_count": null,
      "outputs": [
        {
          "output_type": "execute_result",
          "data": {
            "text/plain": [
              "'ชื่อ กาญจนา นามสกุล ประสาคุณ รหัส 603021855-2'"
            ],
            "application/vnd.google.colaboratory.intrinsic+json": {
              "type": "string"
            }
          },
          "metadata": {},
          "execution_count": 28
        }
      ]
    },
    {
      "cell_type": "code",
      "source": [
        "out_printname2 = print_fullname2(name='กาญจนา',surname='ประสาคุณ',ID='603021855-2')  # ไม่มี output"
      ],
      "metadata": {
        "colab": {
          "base_uri": "https://localhost:8080/"
        },
        "id": "AbT5pKVYWRBn",
        "outputId": "22c5ecb4-32d2-4506-ab39-7e1449cd09dc"
      },
      "execution_count": null,
      "outputs": [
        {
          "output_type": "stream",
          "name": "stdout",
          "text": [
            "ชื่อ กาญจนา นามสกุล ประสาคุณ รหัส 603021855-2\n"
          ]
        }
      ]
    },
    {
      "cell_type": "code",
      "source": [
        "print(out_printname2)"
      ],
      "metadata": {
        "colab": {
          "base_uri": "https://localhost:8080/"
        },
        "id": "1SGVl6H-Y7iY",
        "outputId": "eede0f64-b952-4bca-d853-8b1fdfa078c4"
      },
      "execution_count": null,
      "outputs": [
        {
          "output_type": "stream",
          "name": "stdout",
          "text": [
            "None\n"
          ]
        }
      ]
    },
    {
      "cell_type": "markdown",
      "metadata": {
        "id": "JF4RdyEBqPyl"
      },
      "source": [
        "ฟังก์ชั่นไม่จำเป็นต้องมี input"
      ]
    },
    {
      "cell_type": "code",
      "metadata": {
        "id": "LNb_o_ZXo_gh"
      },
      "source": [
        "def Pi():\n",
        "    return 3.14159265359"
      ],
      "execution_count": null,
      "outputs": []
    },
    {
      "cell_type": "code",
      "metadata": {
        "colab": {
          "base_uri": "https://localhost:8080/"
        },
        "id": "htN6zLbFo_dr",
        "outputId": "f588d994-6ab1-401b-de64-b16d9db2f781"
      },
      "source": [
        "Pi()*(2**2) # หาพื้นที่ของวงกลมที่มีรัศมีเท่ากับ Pi * r^2"
      ],
      "execution_count": null,
      "outputs": [
        {
          "output_type": "execute_result",
          "data": {
            "text/plain": [
              "12.56637061436"
            ]
          },
          "metadata": {},
          "execution_count": 33
        }
      ]
    },
    {
      "cell_type": "markdown",
      "metadata": {
        "id": "ywc0Ho-_rUTu"
      },
      "source": [
        "## เราสามารถกำหนดค่า default ให้กับ input ของฟังก์ชั่นได้"
      ]
    },
    {
      "cell_type": "markdown",
      "metadata": {
        "id": "y_74dHkjxS7f"
      },
      "source": [
        "input ของ function ใน python มีสองแบบ input ที่จำเป็นต้องใส่ กับ input ที่ไม่จำเป็นต้องใส่ (มีค่า default)\n",
        "\n",
        "เราต้องเรียง input ที่จำเป็นต้องใส่ขึ้นก่อน"
      ]
    },
    {
      "cell_type": "code",
      "metadata": {
        "id": "0Lrh-6mAo_bA"
      },
      "source": [
        "def print_2lines_default(name,surname,ID,grade='F'):\n",
        "    st = f'ชื่อ {name} นามสกุล {surname} รหัส {ID}'\n",
        "    print (st)\n",
        "    st2=f'เกรดวิชา Data Viz >>> {grade}'\n",
        "    print(st2)"
      ],
      "execution_count": null,
      "outputs": []
    },
    {
      "cell_type": "code",
      "metadata": {
        "colab": {
          "base_uri": "https://localhost:8080/"
        },
        "id": "ZH31VIjko_WP",
        "outputId": "f5b0940a-f46d-4241-b39c-c74c4740c439"
      },
      "source": [
        "print_2lines_default('รุ่งแสง','กองสุข','663020292-1')"
      ],
      "execution_count": null,
      "outputs": [
        {
          "output_type": "stream",
          "name": "stdout",
          "text": [
            "ชื่อ รุ่งแสง นามสกุล กองสุข รหัส 663020292-1\n",
            "เกรดวิชา Data Viz >>> F\n"
          ]
        }
      ]
    },
    {
      "cell_type": "code",
      "metadata": {
        "colab": {
          "base_uri": "https://localhost:8080/"
        },
        "id": "FKGr2Iyuo_S2",
        "outputId": "a01e7cac-959a-436e-b5eb-af5162a3e13e"
      },
      "source": [
        "print_2lines_default('รุ่งแสง','กองสุข','663020292-1','A')"
      ],
      "execution_count": null,
      "outputs": [
        {
          "output_type": "stream",
          "name": "stdout",
          "text": [
            "ชื่อ รุ่งแสง นามสกุล กองสุข รหัส 663020292-1\n",
            "เกรดวิชา Data Viz >>> A\n"
          ]
        }
      ]
    },
    {
      "cell_type": "code",
      "source": [
        "print_2lines_default('ธันยาการต์','พวงมาลัย')"
      ],
      "metadata": {
        "colab": {
          "base_uri": "https://localhost:8080/",
          "height": 158
        },
        "id": "cLGa_pO1Zv1U",
        "outputId": "5bf453c3-5508-4f83-9975-0362c3db20a8"
      },
      "execution_count": null,
      "outputs": [
        {
          "output_type": "error",
          "ename": "TypeError",
          "evalue": "print_2lines_default() missing 1 required positional argument: 'ID'",
          "traceback": [
            "\u001b[0;31m---------------------------------------------------------------------------\u001b[0m",
            "\u001b[0;31mTypeError\u001b[0m                                 Traceback (most recent call last)",
            "\u001b[0;32m/tmp/ipython-input-38-2908973391.py\u001b[0m in \u001b[0;36m<cell line: 0>\u001b[0;34m()\u001b[0m\n\u001b[0;32m----> 1\u001b[0;31m \u001b[0mprint_2lines_default\u001b[0m\u001b[0;34m(\u001b[0m\u001b[0;34m'ธันยาการต์'\u001b[0m\u001b[0;34m,\u001b[0m\u001b[0;34m'พวงมาลัย'\u001b[0m\u001b[0;34m)\u001b[0m\u001b[0;34m\u001b[0m\u001b[0;34m\u001b[0m\u001b[0m\n\u001b[0m",
            "\u001b[0;31mTypeError\u001b[0m: print_2lines_default() missing 1 required positional argument: 'ID'"
          ]
        }
      ]
    },
    {
      "cell_type": "markdown",
      "source": [
        "# Quiz5\n",
        "เขียน function ของ HW2\n",
        "\n",
        "commit \"quiz5\""
      ],
      "metadata": {
        "id": "Alh7JMwDa1k1"
      }
    },
    {
      "cell_type": "markdown",
      "source": [
        "# Quiz6\n",
        "เขียน function ของ HW2 -> มีการใช้ ค่า default ของ input โดยถ้าวันที่กรอกเป็นวันเดียวกันให้ไม่ต้องกรอกเลยหรือกรอกแค่ 1 ตัว\n",
        "\n",
        "commit \"quiz6\""
      ],
      "metadata": {
        "id": "_UbG8M_Mf-lj"
      }
    },
    {
      "cell_type": "code",
      "source": [
        "# prompt: เขียนฟังก์ชั่นคำนวณวินาที จาก เวลาที่ใส่เข้ามา\n",
        "\n",
        "def calculate_seconds(hours, minutes, seconds):\n",
        "  \"\"\"\n",
        "  คำนวณวินาทีรวมจากชั่วโมง นาที และวินาทีที่กำหนด\n",
        "\n",
        "  Args:\n",
        "    hours: จำนวนชั่วโมง\n",
        "    minutes: จำนวนนาที\n",
        "    seconds: จำนวนวินาที\n",
        "\n",
        "  Returns:\n",
        "    จำนวนวินาทีทั้งหมด\n",
        "  \"\"\"\n",
        "  total_seconds = (hours * 3600) + (minutes * 60) + seconds\n",
        "  return total_seconds\n",
        "\n",
        "# ตัวอย่างการใช้งาน\n",
        "hours = 1\n",
        "minutes = 30\n",
        "seconds = 45\n",
        "total = calculate_seconds(hours, minutes, seconds)\n",
        "print(f\"{hours} ชั่วโมง {minutes} นาที {seconds} วินาที เท่ากับ {total} วินาที\")"
      ],
      "metadata": {
        "id": "h7EIgdp_a_M8"
      },
      "execution_count": null,
      "outputs": []
    },
    {
      "cell_type": "markdown",
      "source": [
        "#inspect existing function\n",
        "\n",
        "- https://www.w3schools.com/python/ref_func_print.asp\n",
        "\n",
        "- https://scikit-learn.org/stable/modules/generated/sklearn.tree.DecisionTreeClassifier.html#sklearn.tree.DecisionTreeClassifier"
      ],
      "metadata": {
        "id": "kb25fxzpgXsp"
      }
    },
    {
      "cell_type": "code",
      "source": [
        "print('abc','def')"
      ],
      "metadata": {
        "id": "lhE86SIUa_Jt",
        "colab": {
          "base_uri": "https://localhost:8080/"
        },
        "outputId": "4cb330a8-cfa7-4e84-c980-de46a16a26da"
      },
      "execution_count": null,
      "outputs": [
        {
          "output_type": "stream",
          "name": "stdout",
          "text": [
            "abc def\n"
          ]
        }
      ]
    },
    {
      "cell_type": "code",
      "source": [],
      "metadata": {
        "id": "_VDg-OyRa_Hh"
      },
      "execution_count": null,
      "outputs": []
    },
    {
      "cell_type": "code",
      "source": [],
      "metadata": {
        "id": "eSZh5ak-a_Ew"
      },
      "execution_count": null,
      "outputs": []
    },
    {
      "cell_type": "code",
      "source": [],
      "metadata": {
        "id": "AIuwSifNa_CC"
      },
      "execution_count": null,
      "outputs": []
    },
    {
      "cell_type": "code",
      "source": [],
      "metadata": {
        "id": "SItcrFAUa---"
      },
      "execution_count": null,
      "outputs": []
    },
    {
      "cell_type": "markdown",
      "metadata": {
        "id": "UB5fTAr3bPqg"
      },
      "source": [
        "# LOOP การวนซ้ำ"
      ]
    },
    {
      "cell_type": "code",
      "source": [],
      "metadata": {
        "id": "kE0ARWbR8X-M"
      },
      "execution_count": null,
      "outputs": []
    },
    {
      "cell_type": "markdown",
      "metadata": {
        "id": "gpIwjDjg0gfJ"
      },
      "source": [
        "for เป็นคำที่ใช้บอก python ว่าเรากำลังเขียน loop\n",
        "โดย for จะวนดึงสมาชิกจาก ```listA``` มาทำ process ```do_something```"
      ]
    },
    {
      "cell_type": "markdown",
      "source": [
        "เขียนขึ้นต้นด้วย for"
      ],
      "metadata": {
        "id": "HbqrKs9M8U_l"
      }
    },
    {
      "cell_type": "markdown",
      "metadata": {
        "id": "6XS2wO4_bPqg"
      },
      "source": [
        "```python\n",
        "    for each_member in listA :\n",
        "        do_something\n",
        "```"
      ]
    },
    {
      "cell_type": "markdown",
      "metadata": {
        "id": "d7kQ2AEcbPqg"
      },
      "source": [
        "#### คำสั่ง for เป็นคำสั่งวนซ้ำที่ใช้ควบคุมการทำงานซ้ำๆ ในจำนวนรอบที่แน่นอน"
      ]
    },
    {
      "cell_type": "code",
      "metadata": {
        "colab": {
          "base_uri": "https://localhost:8080/"
        },
        "id": "NcT-s7TEbPqg",
        "outputId": "27b00eb4-8e3c-41b5-bcad-f8f50b531a3d"
      },
      "source": [
        "for i in [1,2,3] :\n",
        "    o = i**2\n",
        "    print (f'this member = {i} after process = {o}')"
      ],
      "execution_count": 1,
      "outputs": [
        {
          "output_type": "stream",
          "name": "stdout",
          "text": [
            "this member = 1 after process = 1\n",
            "this member = 2 after process = 4\n",
            "this member = 3 after process = 9\n"
          ]
        }
      ]
    },
    {
      "cell_type": "markdown",
      "metadata": {
        "id": "YbnFaiU2bPqg"
      },
      "source": [
        "#### ตัวอย่างการใช้คำสั่ง for ในการวนซ้ำค่าของ i เมื่อ i คือ 'Thanapong' และคำสั่ง print(f'{i} -> /') เพื่อกำหนดให้ผลลัพธ์แสดงสัญลักษณ์ -> /  จากนั้นเพิ่มคำสั่ง print(' ') อีกครั้งเพื่อให้ผลลัพธ์มีการเว้นวรรค¶"
      ]
    },
    {
      "cell_type": "code",
      "metadata": {
        "id": "kstoI_CEbPqh",
        "outputId": "39bda10a-7dd2-4c40-c2c6-40447e812c09",
        "colab": {
          "base_uri": "https://localhost:8080/"
        }
      },
      "source": [
        "for i in 'Thanapong':\n",
        "    print(i,end = '->/' )"
      ],
      "execution_count": 2,
      "outputs": [
        {
          "output_type": "stream",
          "name": "stdout",
          "text": [
            "T->/h->/a->/n->/a->/p->/o->/n->/g->/"
          ]
        }
      ]
    },
    {
      "cell_type": "markdown",
      "source": [
        "ขึ้นบรรทัดใหม่ \\n"
      ],
      "metadata": {
        "id": "2XKKsI7N-ykm"
      }
    },
    {
      "cell_type": "code",
      "source": [
        "for i in 'Thanapong':\n",
        "    print(i,end = '->/\\n' )"
      ],
      "metadata": {
        "colab": {
          "base_uri": "https://localhost:8080/"
        },
        "id": "b0pbhyAA-vPq",
        "outputId": "c2f48b31-1bea-413c-da4b-dfb1621ca8f3"
      },
      "execution_count": 3,
      "outputs": [
        {
          "output_type": "stream",
          "name": "stdout",
          "text": [
            "T->/\n",
            "h->/\n",
            "a->/\n",
            "n->/\n",
            "a->/\n",
            "p->/\n",
            "o->/\n",
            "n->/\n",
            "g->/\n"
          ]
        }
      ]
    },
    {
      "cell_type": "code",
      "metadata": {
        "id": "mQmh0Ip-V8qR",
        "outputId": "44febed4-6f59-4ef6-928c-68e3cc428410",
        "colab": {
          "base_uri": "https://localhost:8080/"
        }
      },
      "source": [
        "for i in 'Thanapong':\n",
        "    print(f'{i} -> / ' ,end = '') #สั่งให้ print แบบ ไม่เว้นบรรทัด"
      ],
      "execution_count": 5,
      "outputs": [
        {
          "output_type": "stream",
          "name": "stdout",
          "text": [
            "T -> / h -> / a -> / n -> / a -> / p -> / o -> / n -> / g -> / "
          ]
        }
      ]
    },
    {
      "cell_type": "markdown",
      "metadata": {
        "id": "3_I0IHOqXMIr"
      },
      "source": [
        "## สร้าง list ตัวเลขแบบอัตโนมัติ  range()"
      ]
    },
    {
      "cell_type": "markdown",
      "source": [
        "วนลูปหลายๆรอบ ใช้คำสั่ง range เจนเนอเลทตัวเลขให้เรียงอัตโนมัติ"
      ],
      "metadata": {
        "id": "PNP-8hqg-9bG"
      }
    },
    {
      "cell_type": "code",
      "metadata": {
        "id": "ensAuLXBW-0P",
        "outputId": "a8e3381a-9795-4900-d3c0-b30da3a6ddfe",
        "colab": {
          "base_uri": "https://localhost:8080/"
        }
      },
      "source": [
        "range5_output = range(5)\n",
        "print(list(range5_output))"
      ],
      "execution_count": 6,
      "outputs": [
        {
          "output_type": "stream",
          "name": "stdout",
          "text": [
            "[0, 1, 2, 3, 4]\n"
          ]
        }
      ]
    },
    {
      "cell_type": "code",
      "metadata": {
        "id": "r8JXggPKXrEx",
        "outputId": "d3fa6984-1512-47f3-acdb-15a5d38620c9",
        "colab": {
          "base_uri": "https://localhost:8080/"
        }
      },
      "source": [
        "for i in range(100):\n",
        "    print('งง',end=' ')"
      ],
      "execution_count": 7,
      "outputs": [
        {
          "output_type": "stream",
          "name": "stdout",
          "text": [
            "งง งง งง งง งง งง งง งง งง งง งง งง งง งง งง งง งง งง งง งง งง งง งง งง งง งง งง งง งง งง งง งง งง งง งง งง งง งง งง งง งง งง งง งง งง งง งง งง งง งง งง งง งง งง งง งง งง งง งง งง งง งง งง งง งง งง งง งง งง งง งง งง งง งง งง งง งง งง งง งง งง งง งง งง งง งง งง งง งง งง งง งง งง งง งง งง งง งง งง งง "
          ]
        }
      ]
    },
    {
      "cell_type": "code",
      "metadata": {
        "id": "RLvhNqw8YpKa",
        "outputId": "efe7b097-2ce1-4d84-95dd-1b30c4333230",
        "colab": {
          "base_uri": "https://localhost:8080/"
        }
      },
      "source": [
        "list(range(1,11)) #เริ่มต้นเป็นวงทึบ จบเป็นวงกลมโปร่ง เหมือน list slicing"
      ],
      "execution_count": 8,
      "outputs": [
        {
          "output_type": "execute_result",
          "data": {
            "text/plain": [
              "[1, 2, 3, 4, 5, 6, 7, 8, 9, 10]"
            ]
          },
          "metadata": {},
          "execution_count": 8
        }
      ]
    },
    {
      "cell_type": "code",
      "metadata": {
        "id": "MqXQ9NLGcW-r",
        "outputId": "b0c53015-16ac-4e2c-97bb-0b205ae625a1",
        "colab": {
          "base_uri": "https://localhost:8080/"
        }
      },
      "source": [
        "list(range(-3,20,4))"
      ],
      "execution_count": 9,
      "outputs": [
        {
          "output_type": "execute_result",
          "data": {
            "text/plain": [
              "[-3, 1, 5, 9, 13, 17]"
            ]
          },
          "metadata": {},
          "execution_count": 9
        }
      ]
    },
    {
      "cell_type": "markdown",
      "source": [
        " ## วนลูปโดยสนใจทั้งสมาชิกและลำดับ"
      ],
      "metadata": {
        "id": "PHTFj9cQ_50a"
      }
    },
    {
      "cell_type": "code",
      "source": [
        "index = 0\n",
        "for i in 'wachirawit':\n",
        "  print(f'สมาชิกคือ {i} เป็นลำดับที่ {index}')\n",
        "  index += 1"
      ],
      "metadata": {
        "colab": {
          "base_uri": "https://localhost:8080/"
        },
        "id": "-wBC4Eb7Aa2J",
        "outputId": "cfd4fdb0-72fc-464d-95bb-cc23258bc162"
      },
      "execution_count": 10,
      "outputs": [
        {
          "output_type": "stream",
          "name": "stdout",
          "text": [
            "สมาชิกคือ w เป็นลำดับที่ 0\n",
            "สมาชิกคือ a เป็นลำดับที่ 1\n",
            "สมาชิกคือ c เป็นลำดับที่ 2\n",
            "สมาชิกคือ h เป็นลำดับที่ 3\n",
            "สมาชิกคือ i เป็นลำดับที่ 4\n",
            "สมาชิกคือ r เป็นลำดับที่ 5\n",
            "สมาชิกคือ a เป็นลำดับที่ 6\n",
            "สมาชิกคือ w เป็นลำดับที่ 7\n",
            "สมาชิกคือ i เป็นลำดับที่ 8\n",
            "สมาชิกคือ t เป็นลำดับที่ 9\n"
          ]
        }
      ]
    },
    {
      "cell_type": "code",
      "source": [
        "for index, i in enumerate('wachirawit'):\n",
        "  print(f'สมาชิกคือ {i} เป็นลำดับที่ {index}')"
      ],
      "metadata": {
        "colab": {
          "base_uri": "https://localhost:8080/"
        },
        "id": "amxqfgayA4yb",
        "outputId": "933fe888-135c-4c04-f040-758da5c56b3a"
      },
      "execution_count": 13,
      "outputs": [
        {
          "output_type": "stream",
          "name": "stdout",
          "text": [
            "สมาชิกคือ w เป็นลำดับที่ 0\n",
            "สมาชิกคือ a เป็นลำดับที่ 1\n",
            "สมาชิกคือ c เป็นลำดับที่ 2\n",
            "สมาชิกคือ h เป็นลำดับที่ 3\n",
            "สมาชิกคือ i เป็นลำดับที่ 4\n",
            "สมาชิกคือ r เป็นลำดับที่ 5\n",
            "สมาชิกคือ a เป็นลำดับที่ 6\n",
            "สมาชิกคือ w เป็นลำดับที่ 7\n",
            "สมาชิกคือ i เป็นลำดับที่ 8\n",
            "สมาชิกคือ t เป็นลำดับที่ 9\n"
          ]
        }
      ]
    },
    {
      "cell_type": "markdown",
      "metadata": {
        "id": "vPcR4tJebPqi"
      },
      "source": [
        "### loop in loop\n",
        "#### สามารถใช้ for loop ซ้อนกันสองรอบได้¶"
      ]
    },
    {
      "cell_type": "markdown",
      "source": [
        "ตัวอย่างการวน2ลูป"
      ],
      "metadata": {
        "id": "2mGH70cTCS-Y"
      }
    },
    {
      "cell_type": "code",
      "metadata": {
        "id": "TKRcpd5DbPqi",
        "outputId": "c6a931a3-c676-44b9-90a4-156aa0eb0f3b",
        "colab": {
          "base_uri": "https://localhost:8080/"
        }
      },
      "source": [
        "for name1 in  range(2,5): #(2, 3, 4)\n",
        "    print(f'now name1 = {name1}')\n",
        "    for name2 in  range(1,13):\n",
        "        print('  ', name1,' x ',name2,' = ',name1*name2)\n",
        "    print('the inner loop is end')"
      ],
      "execution_count": 14,
      "outputs": [
        {
          "output_type": "stream",
          "name": "stdout",
          "text": [
            "now name1 = 2\n",
            "   2  x  1  =  2\n",
            "   2  x  2  =  4\n",
            "   2  x  3  =  6\n",
            "   2  x  4  =  8\n",
            "   2  x  5  =  10\n",
            "   2  x  6  =  12\n",
            "   2  x  7  =  14\n",
            "   2  x  8  =  16\n",
            "   2  x  9  =  18\n",
            "   2  x  10  =  20\n",
            "   2  x  11  =  22\n",
            "   2  x  12  =  24\n",
            "the inner loop is end\n",
            "now name1 = 3\n",
            "   3  x  1  =  3\n",
            "   3  x  2  =  6\n",
            "   3  x  3  =  9\n",
            "   3  x  4  =  12\n",
            "   3  x  5  =  15\n",
            "   3  x  6  =  18\n",
            "   3  x  7  =  21\n",
            "   3  x  8  =  24\n",
            "   3  x  9  =  27\n",
            "   3  x  10  =  30\n",
            "   3  x  11  =  33\n",
            "   3  x  12  =  36\n",
            "the inner loop is end\n",
            "now name1 = 4\n",
            "   4  x  1  =  4\n",
            "   4  x  2  =  8\n",
            "   4  x  3  =  12\n",
            "   4  x  4  =  16\n",
            "   4  x  5  =  20\n",
            "   4  x  6  =  24\n",
            "   4  x  7  =  28\n",
            "   4  x  8  =  32\n",
            "   4  x  9  =  36\n",
            "   4  x  10  =  40\n",
            "   4  x  11  =  44\n",
            "   4  x  12  =  48\n",
            "the inner loop is end\n"
          ]
        }
      ]
    },
    {
      "cell_type": "markdown",
      "source": [
        "# Quiz 7 วนลูป แสดงค่าตัวเลขออกมาเป็นสามเหลี่ยมตามตัวอย่างนี้\n",
        "\n",
        "ex:\n",
        "\n",
        "1\n",
        "\n",
        "2 4\n",
        "\n",
        "3 6 9\n",
        "\n",
        "4 8 12 16\n",
        "\n",
        "5 10 15 20 25\n"
      ],
      "metadata": {
        "id": "6mHCYZN-ClyN"
      }
    },
    {
      "cell_type": "code",
      "source": [
        "# prompt: # Quiz 7 วนลูป แสดงค่าตัวเลขออกมาเป็นสามเหลี่ยมตามตัวอย่างนี้\n",
        "# ex:\n",
        "# 1\n",
        "# 2 4\n",
        "# 3 6 9\n",
        "# 4 8 12 16\n",
        "# 5 10 15 20 25\n",
        "\n",
        "for i in range(1, 6):\n",
        "    for j in range(1, i + 1):\n",
        "        print(i * j, end=' ')\n",
        "    print()"
      ],
      "metadata": {
        "colab": {
          "base_uri": "https://localhost:8080/"
        },
        "id": "XGBpms_CDSQi",
        "outputId": "ca39c3ac-c1a3-4367-df4b-b05dc13b024e"
      },
      "execution_count": 17,
      "outputs": [
        {
          "output_type": "stream",
          "name": "stdout",
          "text": [
            "1 \n",
            "2 4 \n",
            "3 6 9 \n",
            "4 8 12 16 \n",
            "5 10 15 20 25 \n"
          ]
        }
      ]
    },
    {
      "cell_type": "markdown",
      "metadata": {
        "id": "7-FAZit8bPqi"
      },
      "source": [
        "### loop in function\n",
        "#### การวนลูปในฟังก์ชั่น¶"
      ]
    },
    {
      "cell_type": "code",
      "metadata": {
        "id": "S0r5yhbDbPqi"
      },
      "source": [
        "def print_feelings(I,friendS,feeling = 'คิดถึง'):\n",
        "    for friend in friendS:\n",
        "        print(f'{I} {feeling} {friend}')"
      ],
      "execution_count": 18,
      "outputs": []
    },
    {
      "cell_type": "code",
      "metadata": {
        "id": "_oVKj4SRfGS6"
      },
      "source": [
        "list_friends = ['คุณหนูเบียร์','พ่อใหญ่เฟิร์ส','อ้ายสีหนุ่ท','จ่าหนึ่ง','บักโส']"
      ],
      "execution_count": 19,
      "outputs": []
    },
    {
      "cell_type": "code",
      "metadata": {
        "id": "RepVZqu6bPqi",
        "outputId": "c18f0141-4d03-4364-f593-ea6bf4cbb577",
        "colab": {
          "base_uri": "https://localhost:8080/"
        }
      },
      "source": [
        "print_feelings('แก้ม',list_friends)"
      ],
      "execution_count": 20,
      "outputs": [
        {
          "output_type": "stream",
          "name": "stdout",
          "text": [
            "แก้ม คิดถึง คุณหนูเบียร์\n",
            "แก้ม คิดถึง พ่อใหญ่เฟิร์ส\n",
            "แก้ม คิดถึง อ้ายสีหนุ่ท\n",
            "แก้ม คิดถึง จ่าหนึ่ง\n",
            "แก้ม คิดถึง บักโส\n"
          ]
        }
      ]
    },
    {
      "cell_type": "code",
      "source": [
        "print_feelings('แก้ม','พ่อใหญ่เฟิร์ส')"
      ],
      "metadata": {
        "colab": {
          "base_uri": "https://localhost:8080/"
        },
        "id": "asCkySqsHP0C",
        "outputId": "6b268d62-5553-457f-fe0c-52251b7b24da"
      },
      "execution_count": 21,
      "outputs": [
        {
          "output_type": "stream",
          "name": "stdout",
          "text": [
            "แก้ม คิดถึง พ\n",
            "แก้ม คิดถึง ่\n",
            "แก้ม คิดถึง อ\n",
            "แก้ม คิดถึง ใ\n",
            "แก้ม คิดถึง ห\n",
            "แก้ม คิดถึง ญ\n",
            "แก้ม คิดถึง ่\n",
            "แก้ม คิดถึง เ\n",
            "แก้ม คิดถึง ฟ\n",
            "แก้ม คิดถึง ิ\n",
            "แก้ม คิดถึง ร\n",
            "แก้ม คิดถึง ์\n",
            "แก้ม คิดถึง ส\n"
          ]
        }
      ]
    },
    {
      "cell_type": "code",
      "metadata": {
        "id": "SzHamL8JhKG4",
        "outputId": "79352585-a906-43c8-aaa2-70693621b2b8",
        "colab": {
          "base_uri": "https://localhost:8080/"
        }
      },
      "source": [
        "print_feelings('เเก้ม',list_friends,'ซัง')"
      ],
      "execution_count": 25,
      "outputs": [
        {
          "output_type": "stream",
          "name": "stdout",
          "text": [
            "เเก้ม ซัง คุณหนูเบียร์\n",
            "เเก้ม ซัง พ่อใหญ่เฟิร์ส\n",
            "เเก้ม ซัง อ้ายสีหนุ่ท\n",
            "เเก้ม ซัง จ่าหนึ่ง\n",
            "เเก้ม ซัง บักโส\n"
          ]
        }
      ]
    },
    {
      "cell_type": "markdown",
      "source": [
        "จบ 24 มิย 67"
      ],
      "metadata": {
        "id": "GJAB4hnvnAX8"
      }
    },
    {
      "cell_type": "markdown",
      "source": [
        "## Dictionary (Data Structure)\n",
        "\n",
        "โครงสร้างข้อมูลที่จัดเก็บข้อมูลโดยการอ้างอิงโดย text\n",
        "\n",
        "วงเล็บ ```{``` ```}``` Curly Brackets"
      ],
      "metadata": {
        "id": "VreW55vmVRcb"
      }
    },
    {
      "cell_type": "code",
      "source": [
        "Ex_dict_A = {'memberA':[1,2,3],'memberB':8,'memberC':'abc'}"
      ],
      "metadata": {
        "id": "i-oH98ilV1RV"
      },
      "execution_count": null,
      "outputs": []
    },
    {
      "cell_type": "code",
      "source": [
        "Ex_dict_A"
      ],
      "metadata": {
        "colab": {
          "base_uri": "https://localhost:8080/"
        },
        "id": "kIwdnWuqWr58",
        "outputId": "694d94ad-5ac6-47a8-e6d6-01f62d578d9b"
      },
      "execution_count": null,
      "outputs": [
        {
          "output_type": "execute_result",
          "data": {
            "text/plain": [
              "{'memberA': [1, 2, 3], 'memberB': 8, 'memberC': 'abc'}"
            ]
          },
          "metadata": {},
          "execution_count": 2
        }
      ]
    },
    {
      "cell_type": "code",
      "source": [
        "Ex_dict_A['memberA']"
      ],
      "metadata": {
        "colab": {
          "base_uri": "https://localhost:8080/"
        },
        "id": "J4yy6oaXW4he",
        "outputId": "153013bf-f9bd-4cd9-a182-bf13744d02c7"
      },
      "execution_count": null,
      "outputs": [
        {
          "output_type": "execute_result",
          "data": {
            "text/plain": [
              "[1, 2, 3]"
            ]
          },
          "metadata": {},
          "execution_count": 5
        }
      ]
    },
    {
      "cell_type": "code",
      "source": [
        "Ex_dict_A['memberA'][1]"
      ],
      "metadata": {
        "colab": {
          "base_uri": "https://localhost:8080/"
        },
        "id": "cZjtUbdnXZK-",
        "outputId": "0eaa0d49-1a2a-41d6-bb62-7c3252df977f"
      },
      "execution_count": null,
      "outputs": [
        {
          "output_type": "execute_result",
          "data": {
            "text/plain": [
              "2"
            ]
          },
          "metadata": {},
          "execution_count": 6
        }
      ]
    },
    {
      "cell_type": "markdown",
      "metadata": {
        "id": "vwK7RmRJbPqj"
      },
      "source": [
        "### looping in dict\n",
        "#### ทำการวนลูปในค่า dict โดยที่เรากำหนดตัว key และvalueขึ้นมา ได้ดังนี้\n"
      ]
    },
    {
      "cell_type": "code",
      "metadata": {
        "id": "HI0F-4HobPqj",
        "outputId": "82ceae46-9684-4f88-c3da-083f0bfa1b77",
        "colab": {
          "base_uri": "https://localhost:8080/"
        }
      },
      "source": [
        "name_grade = {'A' : 'B','C' : 'D','E' : 'F','G' : 'H'}\n",
        "name_grade"
      ],
      "execution_count": 32,
      "outputs": [
        {
          "output_type": "execute_result",
          "data": {
            "text/plain": [
              "{'A': 'B', 'C': 'D', 'E': 'F', 'G': 'H'}"
            ]
          },
          "metadata": {},
          "execution_count": 32
        }
      ]
    },
    {
      "cell_type": "code",
      "metadata": {
        "id": "jWf8aBmpbPqj",
        "outputId": "d45560a3-3c0f-445d-9efd-26084e624826",
        "colab": {
          "base_uri": "https://localhost:8080/",
          "height": 141
        }
      },
      "source": [
        "name_grade['ปนัดดา']"
      ],
      "execution_count": 34,
      "outputs": [
        {
          "output_type": "error",
          "ename": "KeyError",
          "evalue": "'B'",
          "traceback": [
            "\u001b[0;31m---------------------------------------------------------------------------\u001b[0m",
            "\u001b[0;31mKeyError\u001b[0m                                  Traceback (most recent call last)",
            "\u001b[0;32m/tmp/ipython-input-34-3748644507.py\u001b[0m in \u001b[0;36m<cell line: 0>\u001b[0;34m()\u001b[0m\n\u001b[0;32m----> 1\u001b[0;31m \u001b[0mname_grade\u001b[0m\u001b[0;34m[\u001b[0m\u001b[0;34m'B'\u001b[0m\u001b[0;34m]\u001b[0m\u001b[0;34m\u001b[0m\u001b[0;34m\u001b[0m\u001b[0m\n\u001b[0m",
            "\u001b[0;31mKeyError\u001b[0m: 'B'"
          ]
        }
      ]
    },
    {
      "cell_type": "code",
      "source": [
        "name_grade.keys()"
      ],
      "metadata": {
        "colab": {
          "base_uri": "https://localhost:8080/"
        },
        "id": "0tXZc6kgYPgm",
        "outputId": "2b8a5cd6-c6e4-4d95-db07-5e17ca9ac583"
      },
      "execution_count": 28,
      "outputs": [
        {
          "output_type": "execute_result",
          "data": {
            "text/plain": [
              "dict_keys(['พันทิพา', 'ศุภนิตา', 'ปนัดดา', 'ทรงกลด'])"
            ]
          },
          "metadata": {},
          "execution_count": 28
        }
      ]
    },
    {
      "cell_type": "code",
      "source": [
        "name_grade.values()"
      ],
      "metadata": {
        "colab": {
          "base_uri": "https://localhost:8080/"
        },
        "id": "zEqstk33YRxp",
        "outputId": "e2cf29e8-f60d-48b5-aaec-047b8f17f16e"
      },
      "execution_count": 29,
      "outputs": [
        {
          "output_type": "execute_result",
          "data": {
            "text/plain": [
              "dict_values(['B', 'C', 'A', 'F'])"
            ]
          },
          "metadata": {},
          "execution_count": 29
        }
      ]
    },
    {
      "cell_type": "code",
      "metadata": {
        "scrolled": true,
        "id": "eDqhoebhbPqj",
        "outputId": "02adbcf8-6fc1-46f8-ad74-5850c8525369",
        "colab": {
          "base_uri": "https://localhost:8080/"
        }
      },
      "source": [
        "for i in name_grade.keys():\n",
        "    print(i)"
      ],
      "execution_count": 30,
      "outputs": [
        {
          "output_type": "stream",
          "name": "stdout",
          "text": [
            "พันทิพา\n",
            "ศุภนิตา\n",
            "ปนัดดา\n",
            "ทรงกลด\n"
          ]
        }
      ]
    },
    {
      "cell_type": "code",
      "metadata": {
        "id": "Imvq4faObPqj",
        "outputId": "4295cd42-9524-4579-e0c6-06a17b0beee5",
        "colab": {
          "base_uri": "https://localhost:8080/"
        }
      },
      "source": [
        "for i in name_grade.keys():\n",
        "    print(f'{i} ได้เกรด {name_grade[i]}')"
      ],
      "execution_count": 31,
      "outputs": [
        {
          "output_type": "stream",
          "name": "stdout",
          "text": [
            "พันทิพา ได้เกรด B\n",
            "ศุภนิตา ได้เกรด C\n",
            "ปนัดดา ได้เกรด A\n",
            "ทรงกลด ได้เกรด F\n"
          ]
        }
      ]
    },
    {
      "cell_type": "markdown",
      "source": [
        "## HW2 Example"
      ],
      "metadata": {
        "id": "CrnK1_WPaYv7"
      }
    },
    {
      "cell_type": "code",
      "source": [
        "time_list =  [\n",
        "    [\"18:09:10\", \"18:25:10\"],\n",
        "    [\"13:38:39\", \"23:54:39\"],\n",
        "    [\"16:49:58\", \"18:05:58\"],\n",
        "    [\"21:49:10\", \"22:24:10\"],\n",
        "    [\"08:52:21\", \"09:25:21\"],\n",
        "    [\"06:56:26\", \"07:49:26\"],\n",
        "    [\"12:08:05\", \"12:43:05\"],\n",
        "    [\"01:48:38\", \"07:18:38\"],\n",
        "    [\"08:51:21\", \"10:17:21\"],\n",
        "    [\"17:05:17\", \"18:09:17\"]]\n",
        "\n",
        "def time_to_second(time1,time2):\n",
        "    time1_list = time1.split(':')\n",
        "    time2_list = time2.split(':')\n",
        "    time1_sec = int(time1_list[0])*3600 + int(time1_list[1])*60 + int(time1_list[2])\n",
        "    time2_sec = int(time2_list[0])*3600 + int(time2_list[1])*60 + int(time2_list[2])\n",
        "    return(time2_sec - time1_sec)\n",
        "\n",
        "for time1,time2 in time_list:\n",
        "  diff_seconds = time_to_second(time1,time2)\n",
        "  print(f\"Time difference between {time1} - {time2} is {diff_seconds} seconds\")"
      ],
      "metadata": {
        "colab": {
          "base_uri": "https://localhost:8080/"
        },
        "id": "BqYhLFc5aYa2",
        "outputId": "825e1a7c-f359-44cc-9e02-160670dc983c"
      },
      "execution_count": null,
      "outputs": [
        {
          "output_type": "stream",
          "name": "stdout",
          "text": [
            "Time difference between 18:09:10 - 18:25:10 is 960 seconds\n",
            "Time difference between 13:38:39 - 23:54:39 is 36960 seconds\n",
            "Time difference between 16:49:58 - 18:05:58 is 4560 seconds\n",
            "Time difference between 21:49:10 - 22:24:10 is 2100 seconds\n",
            "Time difference between 08:52:21 - 09:25:21 is 1980 seconds\n",
            "Time difference between 06:56:26 - 07:49:26 is 3180 seconds\n",
            "Time difference between 12:08:05 - 12:43:05 is 2100 seconds\n",
            "Time difference between 01:48:38 - 07:18:38 is 19800 seconds\n",
            "Time difference between 08:51:21 - 10:17:21 is 5160 seconds\n",
            "Time difference between 17:05:17 - 18:09:17 is 3840 seconds\n"
          ]
        }
      ]
    },
    {
      "cell_type": "code",
      "source": [
        "time1 = \"18:09:10\"\n",
        "time2 = \"00:25:10\"\n",
        "diff_seconds = time_to_second(time1,time2)\n",
        "print(f\"Time difference between {time1} - {time2} is {diff_seconds} seconds\")"
      ],
      "metadata": {
        "colab": {
          "base_uri": "https://localhost:8080/"
        },
        "id": "lbz-CNPlbGYq",
        "outputId": "31befb8b-40ae-47b0-876d-a94e7ecfe760"
      },
      "execution_count": null,
      "outputs": [
        {
          "output_type": "stream",
          "name": "stdout",
          "text": [
            "Time difference between 18:09:10 - 00:25:10 is -63840 seconds\n"
          ]
        }
      ]
    },
    {
      "cell_type": "markdown",
      "source": [
        "##HW3 เพิ่ม loop เข้าไปใน Quiz 6 โดยวนลูป คำนวน วินาที ในโจทย์ ต่อไปนี้\n",
        "เพิ่ม loop เข้าไปใน Quiz6 โดยวนลูป คำนวณ วินาที ในโจทย์ ต่อไปนี้\n",
        "\n",
        "\"10:00:00\", \"Monday\", \"11:30:00\"\n",
        "\n",
        "\"11:30:00\", \"Monday\", \"10:00:00\", \"Monday\"\n",
        "\n",
        "\"23:00:00\", \"Sunday\", \"01:00:00\"\n",
        "\n",
        "\"01:00:00\", \"Monday\", \"23:00:00\", \"Sunday\"\n",
        "\n",
        "\"10:00:00\", \"Tuesday\", \"11:30:00\", \"Thursday\"\n",
        "\n",
        "\"11:30:00\", \"Thursday\", \"10:00:00\", \"Tuesday\"\n",
        "\n",
        "\"12:00:00\", \"Monday\", \"12:00:00\", \"Monday\"\n",
        "\n",
        "\"12:00:00\", \"Monday\", \"12:00:00\", \"Tuesday\"\n",
        "\n",
        "\"00:00:00\", \"Monday\", \"23:59:59\"\n",
        "\n",
        "\"23:59:59\", \"Sunday\", \"00:00:00\", \"Monday\"\n"
      ],
      "metadata": {
        "id": "0pUYX4pZSoY0"
      }
    },
    {
      "cell_type": "code",
      "source": [
        "def time_to_seconds(time_str):\n",
        "  \"\"\"Converts a time string (HH:MM:SS) to total seconds from midnight.\"\"\"\n",
        "  h, m, s = map(int, time_str.split(':'))\n",
        "  return h * 3600 + m * 60 + s\n",
        "\n",
        "def day_to_number(day_str):\n",
        "  \"\"\"Converts a day string to a number (Monday=0, Sunday=6).\"\"\"\n",
        "  days = [\"Monday\", \"Tuesday\", \"Wednesday\", \"Thursday\", \"Friday\", \"Saturday\", \"Sunday\"]\n",
        "  days_thai = [\"จันทร์\", \"อังคาร\", \"พุธ\", \"พฤหัสบดี\", \"ศุกร์\", \"เสาร์\", \"อาทิตย์\"]\n",
        "  if day_str in days:\n",
        "      return days.index(day_str)\n",
        "  elif day_str in days_thai:\n",
        "      return days_thai.index(day_str)\n",
        "  else:\n",
        "      return -1 # Indicate invalid day\n",
        "\n",
        "def calculate_diff_seconds(start_time_str, start_day_str=None, end_time_str=None, end_day_str=None):\n",
        "\n",
        "  start_seconds = time_to_seconds(start_time_str)\n",
        "\n",
        "  if end_time_str is None:\n",
        "      end_seconds = start_seconds\n",
        "  else:\n",
        "      end_seconds = time_to_seconds(end_time_str)\n",
        "\n",
        "  start_day_num = day_to_number(start_day_str) if start_day_str else 0\n",
        "  end_day_num = day_to_number(end_day_str) if end_day_str else (start_day_num if start_day_str else 0)\n",
        "\n",
        "  # Calculate total seconds from the beginning of the week (Monday midnight)\n",
        "  start_total_seconds = start_day_num * 24 * 3600 + start_seconds\n",
        "  end_total_seconds = end_day_num * 24 * 3600 + end_seconds\n",
        "\n",
        "  # Handle cases where the end time is earlier in the week than the start time\n",
        "  if end_total_seconds < start_total_seconds:\n",
        "      # Assume the end time is in the following week\n",
        "      end_total_seconds += 7 * 24 * 3600\n",
        "\n",
        "  return end_total_seconds - start_total_seconds\n",
        "\n",
        "# List of time scenarios\n",
        "time_scenarios = [\n",
        "    (\"10:00:00\", \"Monday\", \"11:30:00\"),\n",
        "    (\"11:30:00\", \"Monday\", \"10:00:00\", \"Monday\"),\n",
        "    (\"23:00:00\", \"Sunday\", \"01:00:00\"),\n",
        "    (\"01:00:00\", \"Monday\", \"23:00:00\", \"Sunday\"),\n",
        "    (\"10:00:00\", \"Tuesday\", \"11:30:00\", \"Thursday\"),\n",
        "    (\"11:30:00\", \"Thursday\", \"10:00:00\", \"Tuesday\"),\n",
        "    (\"12:00:00\", \"Monday\", \"12:00:00\", \"Monday\"),\n",
        "    (\"12:00:00\", \"Monday\", \"12:00:00\", \"Tuesday\"),\n",
        "    (\"00:00:00\", \"Monday\", \"23:59:59\"),\n",
        "    (\"23:59:59\", \"Sunday\", \"00:00:00\", \"Monday\"),\n",
        "    (\"23:59:59\", \"อาทิตย์\", \"00:00:00\", \"จันทร์\") # Thai days\n",
        "]\n"
      ],
      "metadata": {
        "id": "YSYu8POxhgA3"
      },
      "execution_count": 19,
      "outputs": []
    },
    {
      "cell_type": "code",
      "source": [
        "# Loop through the scenarios and calculate the difference\n",
        "for scenario in time_scenarios:\n",
        "    if len(scenario) == 3:\n",
        "        start_time, start_day, end_time = scenario\n",
        "        diff = calculate_diff_seconds(start_time, start_day, end_time, start_day)\n",
        "        print(f\"เวลาเริ่มต้น: {start_time} ({start_day}), เวลาสิ้นสุด: {end_time} ({start_day}) -> ผลต่าง: {diff} วินาที\")\n",
        "    elif len(scenario) == 4:\n",
        "        start_time, start_day, end_time, end_day = scenario\n",
        "        diff = calculate_diff_seconds(start_time, start_day, end_time, end_day)\n",
        "        print(f\"เวลาเริ่มต้น: {start_time} ({start_day}), เวลาสิ้นสุด: {end_time} ({end_day}) -> ผลต่าง: {diff} วินาที\")"
      ],
      "metadata": {
        "colab": {
          "base_uri": "https://localhost:8080/"
        },
        "id": "QXwD_OBnhbUv",
        "outputId": "1e1ecf7a-cd2d-4e01-bb97-83828887c832"
      },
      "execution_count": 20,
      "outputs": [
        {
          "output_type": "stream",
          "name": "stdout",
          "text": [
            "เวลาเริ่มต้น: 10:00:00 (Monday), เวลาสิ้นสุด: 11:30:00 (Monday) -> ผลต่าง: 5400 วินาที\n",
            "เวลาเริ่มต้น: 11:30:00 (Monday), เวลาสิ้นสุด: 10:00:00 (Monday) -> ผลต่าง: 599400 วินาที\n",
            "เวลาเริ่มต้น: 23:00:00 (Sunday), เวลาสิ้นสุด: 01:00:00 (Sunday) -> ผลต่าง: 525600 วินาที\n",
            "เวลาเริ่มต้น: 01:00:00 (Monday), เวลาสิ้นสุด: 23:00:00 (Sunday) -> ผลต่าง: 597600 วินาที\n",
            "เวลาเริ่มต้น: 10:00:00 (Tuesday), เวลาสิ้นสุด: 11:30:00 (Thursday) -> ผลต่าง: 178200 วินาที\n",
            "เวลาเริ่มต้น: 11:30:00 (Thursday), เวลาสิ้นสุด: 10:00:00 (Tuesday) -> ผลต่าง: 426600 วินาที\n",
            "เวลาเริ่มต้น: 12:00:00 (Monday), เวลาสิ้นสุด: 12:00:00 (Monday) -> ผลต่าง: 0 วินาที\n",
            "เวลาเริ่มต้น: 12:00:00 (Monday), เวลาสิ้นสุด: 12:00:00 (Tuesday) -> ผลต่าง: 86400 วินาที\n",
            "เวลาเริ่มต้น: 00:00:00 (Monday), เวลาสิ้นสุด: 23:59:59 (Monday) -> ผลต่าง: 86399 วินาที\n",
            "เวลาเริ่มต้น: 23:59:59 (Sunday), เวลาสิ้นสุด: 00:00:00 (Monday) -> ผลต่าง: 1 วินาที\n",
            "เวลาเริ่มต้น: 23:59:59 (อาทิตย์), เวลาสิ้นสุด: 00:00:00 (จันทร์) -> ผลต่าง: 1 วินาที\n"
          ]
        }
      ]
    },
    {
      "cell_type": "markdown",
      "metadata": {
        "id": "pLDGW8IobPqk"
      },
      "source": [
        "# Conditional statemet คือ ประโยคเงื่อนไข"
      ]
    },
    {
      "cell_type": "markdown",
      "source": [
        "ชนิดตัวแปรที่เกี่ยวข้อ Boolean (True,False)"
      ],
      "metadata": {
        "id": "TvK12jMwcVp8"
      }
    },
    {
      "cell_type": "code",
      "source": [
        "condition_1 = True\n",
        "condition_2 = False"
      ],
      "metadata": {
        "id": "JWxlKa-icUk6"
      },
      "execution_count": null,
      "outputs": []
    },
    {
      "cell_type": "markdown",
      "metadata": {
        "id": "8_-zCLkrbPqk"
      },
      "source": [
        "### การวนลูปโดยมีเงื่อนไขต่างๆมาเกี่ยวข้อง โดยมี pattern ดังนี้\n"
      ]
    },
    {
      "cell_type": "markdown",
      "metadata": {
        "id": "ZQuWb-bybPqk"
      },
      "source": [
        "```Python\n",
        "if condition1 :\n",
        "    do something\n",
        "elif condition2 :  #elif คือ else if\n",
        "    do another thing\n",
        "else:\n",
        "    do ...\n",
        "```\n",
        "    "
      ]
    },
    {
      "cell_type": "markdown",
      "metadata": {
        "id": "kUPdCRG7bPqk"
      },
      "source": [
        "## ==, !=,>=,<=,<,> Operator ของตัวเลข"
      ]
    },
    {
      "cell_type": "code",
      "source": [
        "def time_to_second(time1):\n",
        "    time1_list = time1.split(':')\n",
        "    time1_sec = int(time1_list[0])*3600 + int(time1_list[1])*60 + int(time1_list[2])\n",
        "    return time1_sec"
      ],
      "metadata": {
        "id": "9NIOIupSd_Zn"
      },
      "execution_count": null,
      "outputs": []
    },
    {
      "cell_type": "code",
      "source": [
        "time_list =  [\n",
        "    [\"18:09:10\", \"18:25:10\"],\n",
        "    [\"13:38:39\", \"23:54:39\"],[\"16:49:58\", \"18:05:58\"],\n",
        "    [\"21:49:10\", \"22:24:10\"],[\"08:52:21\", \"09:25:21\"],\n",
        "    [\"06:56:26\", \"07:49:26\"],[\"12:08:05\", \"12:43:05\"],\n",
        "    [\"01:48:38\", \"07:18:38\"],[\"08:51:21\", \"10:17:21\"],\n",
        "    [\"17:05:17\", \"18:09:17\"],[\"18:51:21\", \"00:17:21\"],\n",
        "    [\"17:05:17\", \"11:09:17\"],]"
      ],
      "metadata": {
        "id": "CYcYQJ45d8Wx"
      },
      "execution_count": null,
      "outputs": []
    },
    {
      "cell_type": "code",
      "source": [
        "for time1,time2 in time_list:\n",
        "\n",
        "    if time_to_second(time1) < time_to_second(time2): #ถ้า time1 น้อยกว่า time2\n",
        "        diff_seconds = time_to_second(time2) - time_to_second(time1)\n",
        "    else: #ถ้า time1 ไม่น้อยกว่า time2\n",
        "        diff_seconds = (time_to_second(time2)+(24*60*60)) - time_to_second(time1)\n",
        "\n",
        "    print(f\"Time difference between {time1} - {time2} is {diff_seconds} seconds\")"
      ],
      "metadata": {
        "colab": {
          "base_uri": "https://localhost:8080/"
        },
        "id": "sv-1il2_dmvv",
        "outputId": "50f45721-6ca1-4fc0-f786-ec748affb410"
      },
      "execution_count": null,
      "outputs": [
        {
          "output_type": "stream",
          "name": "stdout",
          "text": [
            "Time difference between 18:09:10 - 18:25:10 is 960 seconds\n",
            "Time difference between 13:38:39 - 23:54:39 is 36960 seconds\n",
            "Time difference between 16:49:58 - 18:05:58 is 4560 seconds\n",
            "Time difference between 21:49:10 - 22:24:10 is 2100 seconds\n",
            "Time difference between 08:52:21 - 09:25:21 is 1980 seconds\n",
            "Time difference between 06:56:26 - 07:49:26 is 3180 seconds\n",
            "Time difference between 12:08:05 - 12:43:05 is 2100 seconds\n",
            "Time difference between 01:48:38 - 07:18:38 is 19800 seconds\n",
            "Time difference between 08:51:21 - 10:17:21 is 5160 seconds\n",
            "Time difference between 17:05:17 - 18:09:17 is 3840 seconds\n",
            "Time difference between 18:51:21 - 00:17:21 is 19560 seconds\n",
            "Time difference between 17:05:17 - 11:09:17 is 65040 seconds\n"
          ]
        }
      ]
    },
    {
      "cell_type": "markdown",
      "source": [
        "# HW3 เพิ่ม ฟังก์ชั่นแปลงวินาทีกลับมาเป็น ชั่วโมง นาที วินาที โดยไม่ใช่ฟังก์ชั่นช่วยเหลืออื่นๆของ python (~~import~~) ถ้าส่วนของ ชั่วโมง นาที วินาที เป็นศูนย์ ไม่ต้องแสดง"
      ],
      "metadata": {
        "id": "JMvgwO7tgxSZ"
      }
    },
    {
      "cell_type": "markdown",
      "metadata": {
        "id": "sSySEFHNbPql"
      },
      "source": [
        "# HW 4\n",
        "#### เขียน function ตัดเกรด โดยที่ input เป็นคะแนน(0-100) , output เป็นเกรด (F-A)\n",
        "#### วนลูปตัดเกรด input = [1,50,65,90,101,-5,49]"
      ]
    },
    {
      "cell_type": "markdown",
      "metadata": {
        "id": "c3TDhZHzbPqm"
      },
      "source": [
        "##### กำหนด\n",
        "      ถ้าคะแนนอยู่ระหว่างมากกว่าหรือเท่ากับ  0  แต่น้อยกว่า 50 จะได้เกรด F\n",
        "      ถ้าคะแนนอยู่ระหว่างมากกว่าหรือเท่ากับ 50 แต่น้อยกว่า 55 จะได้เกรด D\n",
        "      ถ้าคะแนนอยู่ระหว่างมากกว่าหรือเท่ากับ 55 แต่น้อยกว่า 60 จะได้เกรด D+\n",
        "      ถ้าคะแนนอยู่ระหว่างมากกว่าหรือเท่ากับ 60 แต่น้อยกว่า 65 จะได้เกรด C\n",
        "      ถ้าคะแนนอยู่ระหว่างมากกว่าหรือเท่ากับ 65 แต่น้อยกว่า 70 จะได้เกรด C+\n",
        "      ถ้าคะแนนอยู่ระหว่างมากกว่าหรือเท่ากับ 70 แต่น้อยกว่า 75 จะได้เกรด B\n",
        "      ถ้าคะแนนอยู่ระหว่างมากกว่าหรือเท่ากับ 75 แต่น้อยกว่า 80 จะได้เกรด B+\n",
        "      ถ้าคะแนนอยู่ระหว่างมากกว่าหรือเท่ากับ 80  จะได้เกรด A\n",
        "      แต่ว่าค่าคะแนนจะต้องไม่ต่ำกว่า 0 และมากกว่า 100 ไม่งั้นจะเกิด error"
      ]
    },
    {
      "cell_type": "markdown",
      "source": [
        "## ```&```, ```|```, ```in```, ```is```   :  Operator อื่นๆ"
      ],
      "metadata": {
        "id": "HSMQXdmmipMp"
      }
    },
    {
      "cell_type": "code",
      "source": [
        "if (1>0) & (0>-1):\n",
        "    print(True & True)"
      ],
      "metadata": {
        "id": "ES5d1z0ti306",
        "outputId": "4bc178b2-a5d8-4476-e02c-c87ddd5b91ce",
        "colab": {
          "base_uri": "https://localhost:8080/"
        }
      },
      "execution_count": null,
      "outputs": [
        {
          "output_type": "stream",
          "name": "stdout",
          "text": [
            "True\n"
          ]
        }
      ]
    },
    {
      "cell_type": "code",
      "source": [
        "if 'T' in 'Thanapong':\n",
        "    print('T in Thanapong')"
      ],
      "metadata": {
        "id": "3COnyOTKipAc",
        "outputId": "d50e2919-9cbc-41fb-d20f-6e5a371ebba1",
        "colab": {
          "base_uri": "https://localhost:8080/"
        }
      },
      "execution_count": null,
      "outputs": [
        {
          "output_type": "stream",
          "name": "stdout",
          "text": [
            "T in Thanapong\n"
          ]
        }
      ]
    },
    {
      "cell_type": "code",
      "source": [
        "def return_nothing(x):\n",
        "    x = x+1"
      ],
      "metadata": {
        "id": "01N3TOG9k3ti"
      },
      "execution_count": null,
      "outputs": []
    },
    {
      "cell_type": "code",
      "source": [
        "a = return_nothing(5)"
      ],
      "metadata": {
        "id": "drWbuBwNldOL"
      },
      "execution_count": null,
      "outputs": []
    },
    {
      "cell_type": "code",
      "source": [
        "if a is None:\n",
        "    print('x is null')"
      ],
      "metadata": {
        "id": "pOj0pkEEkbuW",
        "outputId": "29d5bf18-d242-40f3-a542-26c39aa2fcca",
        "colab": {
          "base_uri": "https://localhost:8080/"
        }
      },
      "execution_count": null,
      "outputs": [
        {
          "output_type": "stream",
          "name": "stdout",
          "text": [
            "x is null\n"
          ]
        }
      ]
    },
    {
      "cell_type": "code",
      "source": [],
      "metadata": {
        "id": "y1ET-H8ylyxP"
      },
      "execution_count": null,
      "outputs": []
    },
    {
      "cell_type": "markdown",
      "metadata": {
        "id": "Bg3vVE3GbPqn"
      },
      "source": [
        "# Finish"
      ]
    }
  ]
}